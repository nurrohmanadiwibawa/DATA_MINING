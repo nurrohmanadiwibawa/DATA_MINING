{
  "nbformat": 4,
  "nbformat_minor": 0,
  "metadata": {
    "colab": {
      "provenance": []
    },
    "kernelspec": {
      "name": "python3",
      "display_name": "Python 3"
    },
    "language_info": {
      "name": "python"
    }
  },
  "cells": [
    {
      "cell_type": "code",
      "execution_count": 1,
      "metadata": {
        "id": "kDyVD55Q1yGR"
      },
      "outputs": [],
      "source": [
        "import numpy as np\n",
        "import matplotlib.pyplot as plt\n",
        "import pandas as pd"
      ]
    },
    {
      "cell_type": "code",
      "source": [
        "dataset = pd.read_csv('Data2.csv')\n",
        "x = dataset.iloc[:, :-1].values\n",
        "y = dataset.iloc[:, -1].values"
      ],
      "metadata": {
        "id": "GGXd5nGP1_Lo"
      },
      "execution_count": 2,
      "outputs": []
    },
    {
      "cell_type": "code",
      "source": [
        "print(x)"
      ],
      "metadata": {
        "colab": {
          "base_uri": "https://localhost:8080/"
        },
        "id": "doUwj6y42DqV",
        "outputId": "4881e276-03a2-4a3e-9b51-d2f1bd553481"
      },
      "execution_count": 3,
      "outputs": [
        {
          "output_type": "stream",
          "name": "stdout",
          "text": [
            "[['Tegal' 44.0 42000.0]\n",
            " ['Brebes' 22.0 68000.0]\n",
            " ['Semarang' 30.0 74000.0]\n",
            " ['Pekalongan' 38.0 61000.0]\n",
            " ['Bandung' 40.0 nan]\n",
            " ['Kuningan' 35.0 58000.0]\n",
            " ['Jakarta' nan 52000.0]\n",
            " ['Malang' 48.0 79000.0]\n",
            " ['Pemalang' 50.0 83000.0]\n",
            " ['Bekasi' 37.0 67000.0]]\n"
          ]
        }
      ]
    },
    {
      "cell_type": "code",
      "source": [
        "print(y)"
      ],
      "metadata": {
        "colab": {
          "base_uri": "https://localhost:8080/"
        },
        "id": "BcZ8Y9iN2JBr",
        "outputId": "aad7fc79-6f4d-4457-f68f-b61cffb6af2f"
      },
      "execution_count": 4,
      "outputs": [
        {
          "output_type": "stream",
          "name": "stdout",
          "text": [
            "['No' 'Yes' 'No' 'No' 'Yes' 'Yes' 'No' 'Yes' 'No' 'Yes']\n"
          ]
        }
      ]
    },
    {
      "cell_type": "code",
      "source": [
        "from sklearn.impute import SimpleImputer\n",
        "imputer = SimpleImputer(missing_values=np.nan, strategy='mean')\n",
        "imputer.fit(x[:, 1:3])\n",
        "x[:, 1:3] = imputer.transform(x[:, 1:3])"
      ],
      "metadata": {
        "id": "KTERQHzL2LrU"
      },
      "execution_count": 5,
      "outputs": []
    },
    {
      "cell_type": "code",
      "source": [
        "print(x)"
      ],
      "metadata": {
        "colab": {
          "base_uri": "https://localhost:8080/"
        },
        "id": "WYmYqc2V2Pgm",
        "outputId": "cae874e4-f3e2-4af7-f6ac-e281836194fb"
      },
      "execution_count": 6,
      "outputs": [
        {
          "output_type": "stream",
          "name": "stdout",
          "text": [
            "[['Tegal' 44.0 42000.0]\n",
            " ['Brebes' 22.0 68000.0]\n",
            " ['Semarang' 30.0 74000.0]\n",
            " ['Pekalongan' 38.0 61000.0]\n",
            " ['Bandung' 40.0 64888.88888888889]\n",
            " ['Kuningan' 35.0 58000.0]\n",
            " ['Jakarta' 38.22222222222222 52000.0]\n",
            " ['Malang' 48.0 79000.0]\n",
            " ['Pemalang' 50.0 83000.0]\n",
            " ['Bekasi' 37.0 67000.0]]\n"
          ]
        }
      ]
    },
    {
      "cell_type": "code",
      "source": [
        "from sklearn.compose import ColumnTransformer\n",
        "from sklearn.preprocessing import OneHotEncoder\n",
        "ct = ColumnTransformer(transformers=[('encoder', OneHotEncoder(), [0])], remainder='passthrough')\n",
        "x = np.array(ct.fit_transform(x))"
      ],
      "metadata": {
        "id": "10aDv01f2Sp-"
      },
      "execution_count": null,
      "outputs": []
    },
    {
      "cell_type": "code",
      "source": [
        "print(x)"
      ],
      "metadata": {
        "colab": {
          "base_uri": "https://localhost:8080/"
        },
        "id": "-G_7aiAF2UQd",
        "outputId": "eacb2ee8-564a-44b4-d093-ef5935aadbd7"
      },
      "execution_count": 7,
      "outputs": [
        {
          "output_type": "stream",
          "name": "stdout",
          "text": [
            "[['Tegal' 44.0 42000.0]\n",
            " ['Brebes' 22.0 68000.0]\n",
            " ['Semarang' 30.0 74000.0]\n",
            " ['Pekalongan' 38.0 61000.0]\n",
            " ['Bandung' 40.0 64888.88888888889]\n",
            " ['Kuningan' 35.0 58000.0]\n",
            " ['Jakarta' 38.22222222222222 52000.0]\n",
            " ['Malang' 48.0 79000.0]\n",
            " ['Pemalang' 50.0 83000.0]\n",
            " ['Bekasi' 37.0 67000.0]]\n"
          ]
        }
      ]
    },
    {
      "cell_type": "code",
      "source": [
        "from sklearn.preprocessing import LabelEncoder\n",
        "le = LabelEncoder()\n",
        "y = le.fit_transform(y)"
      ],
      "metadata": {
        "id": "MGMTA6Q_2XD9"
      },
      "execution_count": 8,
      "outputs": []
    },
    {
      "cell_type": "code",
      "source": [
        "print(y)"
      ],
      "metadata": {
        "colab": {
          "base_uri": "https://localhost:8080/"
        },
        "id": "QhRzZU1C2ZMs",
        "outputId": "f1209206-11b1-42d1-932d-e9a98fbf2c9c"
      },
      "execution_count": 9,
      "outputs": [
        {
          "output_type": "stream",
          "name": "stdout",
          "text": [
            "[0 1 0 0 1 1 0 1 0 1]\n"
          ]
        }
      ]
    },
    {
      "cell_type": "code",
      "source": [
        "from sklearn.model_selection import train_test_split\n",
        "x_train, x_test, y_train, y_test = train_test_split(x, y, test_size=0.2, random_state=1)"
      ],
      "metadata": {
        "id": "J3F0wLr62cH0"
      },
      "execution_count": 10,
      "outputs": []
    },
    {
      "cell_type": "code",
      "source": [
        "print(x_train)"
      ],
      "metadata": {
        "colab": {
          "base_uri": "https://localhost:8080/"
        },
        "id": "MDqpoiA-2eS-",
        "outputId": "e95a6228-4350-4ce9-98f6-986e32ef14d7"
      },
      "execution_count": 11,
      "outputs": [
        {
          "output_type": "stream",
          "name": "stdout",
          "text": [
            "[['Jakarta' 38.22222222222222 52000.0]\n",
            " ['Bandung' 40.0 64888.88888888889]\n",
            " ['Tegal' 44.0 42000.0]\n",
            " ['Pekalongan' 38.0 61000.0]\n",
            " ['Brebes' 22.0 68000.0]\n",
            " ['Malang' 48.0 79000.0]\n",
            " ['Pemalang' 50.0 83000.0]\n",
            " ['Kuningan' 35.0 58000.0]]\n"
          ]
        }
      ]
    },
    {
      "cell_type": "code",
      "source": [
        "print(x_test)"
      ],
      "metadata": {
        "colab": {
          "base_uri": "https://localhost:8080/"
        },
        "id": "DnLvYNvR2g1t",
        "outputId": "49684ae9-cf23-4092-ac4b-0c0634c0826b"
      },
      "execution_count": 12,
      "outputs": [
        {
          "output_type": "stream",
          "name": "stdout",
          "text": [
            "[['Semarang' 30.0 74000.0]\n",
            " ['Bekasi' 37.0 67000.0]]\n"
          ]
        }
      ]
    },
    {
      "cell_type": "code",
      "source": [
        "print(y_train)"
      ],
      "metadata": {
        "colab": {
          "base_uri": "https://localhost:8080/"
        },
        "id": "6L4Ohde82jTk",
        "outputId": "fafa3d88-9b8e-43b0-9b28-052027f7e0f4"
      },
      "execution_count": 13,
      "outputs": [
        {
          "output_type": "stream",
          "name": "stdout",
          "text": [
            "[0 1 0 0 1 1 0 1]\n"
          ]
        }
      ]
    },
    {
      "cell_type": "code",
      "source": [
        "print(y_test)"
      ],
      "metadata": {
        "colab": {
          "base_uri": "https://localhost:8080/"
        },
        "id": "9GQOvqJ-2oWM",
        "outputId": "d7daeb0d-c2bd-479b-b21e-ec693a58de47"
      },
      "execution_count": 14,
      "outputs": [
        {
          "output_type": "stream",
          "name": "stdout",
          "text": [
            "[0 1]\n"
          ]
        }
      ]
    },
    {
      "cell_type": "code",
      "source": [
        "from sklearn.preprocessing import StandardScaler\n",
        "sc = StandardScaler()\n",
        "x_train[:, 3:] = sc.fit_transform(x_train[:, 3:])\n",
        "x_test[:, 3:] = sc.transform(x_test[:, 3:])"
      ],
      "metadata": {
        "id": "0InV-48I2pZt"
      },
      "execution_count": null,
      "outputs": []
    },
    {
      "cell_type": "code",
      "source": [
        "print(x_train)"
      ],
      "metadata": {
        "colab": {
          "base_uri": "https://localhost:8080/"
        },
        "id": "b0MLPSmk2rAY",
        "outputId": "48d0b91a-733e-44ed-f135-183ad370605e"
      },
      "execution_count": 17,
      "outputs": [
        {
          "output_type": "stream",
          "name": "stdout",
          "text": [
            "[['Jakarta' 38.22222222222222 52000.0]\n",
            " ['Bandung' 40.0 64888.88888888889]\n",
            " ['Tegal' 44.0 42000.0]\n",
            " ['Pekalongan' 38.0 61000.0]\n",
            " ['Brebes' 22.0 68000.0]\n",
            " ['Malang' 48.0 79000.0]\n",
            " ['Pemalang' 50.0 83000.0]\n",
            " ['Kuningan' 35.0 58000.0]]\n"
          ]
        }
      ]
    }
  ]
}